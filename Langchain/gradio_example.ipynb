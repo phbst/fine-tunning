{
 "cells": [
  {
   "cell_type": "code",
   "execution_count": null,
   "metadata": {},
   "outputs": [],
   "source": []
  },
  {
   "cell_type": "code",
   "execution_count": 34,
   "metadata": {},
   "outputs": [
    {
     "name": "stdout",
     "output_type": "stream",
     "text": [
      "Running on local URL:  http://127.0.0.1:7867\n",
      "\n",
      "To create a public link, set `share=True` in `launch()`.\n"
     ]
    },
    {
     "data": {
      "text/html": [
       "<div><iframe src=\"http://127.0.0.1:7867/\" width=\"100%\" height=\"500\" allow=\"autoplay; camera; microphone; clipboard-read; clipboard-write;\" frameborder=\"0\" allowfullscreen></iframe></div>"
      ],
      "text/plain": [
       "<IPython.core.display.HTML object>"
      ]
     },
     "metadata": {},
     "output_type": "display_data"
    },
    {
     "data": {
      "text/plain": []
     },
     "execution_count": 34,
     "metadata": {},
     "output_type": "execute_result"
    }
   ],
   "source": [
    "import gradio as gr\n",
    "\n",
    "def echo(message, history):\n",
    "    if len(history) > 0:\n",
    "        return message  + str(history[-1])\n",
    "    return message\n",
    "\n",
    "demo = gr.ChatInterface(fn=echo, examples=[\"hello\", \"hola\", \"merhaba\"], title=\"Echo Bot\")\n",
    "demo.launch()"
   ]
  },
  {
   "cell_type": "code",
   "execution_count": 38,
   "metadata": {},
   "outputs": [
    {
     "name": "stdout",
     "output_type": "stream",
     "text": [
      "Running on local URL:  http://127.0.0.1:7870\n",
      "\n",
      "To create a public link, set `share=True` in `launch()`.\n"
     ]
    },
    {
     "data": {
      "text/html": [
       "<div><iframe src=\"http://127.0.0.1:7870/\" width=\"100%\" height=\"500\" allow=\"autoplay; camera; microphone; clipboard-read; clipboard-write;\" frameborder=\"0\" allowfullscreen></iframe></div>"
      ],
      "text/plain": [
       "<IPython.core.display.HTML object>"
      ]
     },
     "metadata": {},
     "output_type": "display_data"
    },
    {
     "data": {
      "text/plain": []
     },
     "execution_count": 38,
     "metadata": {},
     "output_type": "execute_result"
    },
    {
     "name": "stderr",
     "output_type": "stream",
     "text": [
      "Traceback (most recent call last):\n",
      "  File \"c:\\Users\\86195\\.conda\\envs\\transformers\\lib\\site-packages\\gradio\\queueing.py\", line 501, in call_prediction\n",
      "    output = await route_utils.call_process_api(\n",
      "  File \"c:\\Users\\86195\\.conda\\envs\\transformers\\lib\\site-packages\\gradio\\route_utils.py\", line 253, in call_process_api\n",
      "    output = await app.get_blocks().process_api(\n",
      "  File \"c:\\Users\\86195\\.conda\\envs\\transformers\\lib\\site-packages\\gradio\\blocks.py\", line 1695, in process_api\n",
      "    result = await self.call_function(\n",
      "  File \"c:\\Users\\86195\\.conda\\envs\\transformers\\lib\\site-packages\\gradio\\blocks.py\", line 1233, in call_function\n",
      "    prediction = await fn(*processed_input)\n",
      "  File \"c:\\Users\\86195\\.conda\\envs\\transformers\\lib\\site-packages\\gradio\\utils.py\", line 659, in async_wrapper\n",
      "    response = await f(*args, **kwargs)\n",
      "  File \"c:\\Users\\86195\\.conda\\envs\\transformers\\lib\\site-packages\\gradio\\chat_interface.py\", line 466, in _submit_fn\n",
      "    response = await anyio.to_thread.run_sync(\n",
      "  File \"c:\\Users\\86195\\.conda\\envs\\transformers\\lib\\site-packages\\anyio\\to_thread.py\", line 33, in run_sync\n",
      "    return await get_asynclib().run_sync_in_worker_thread(\n",
      "  File \"c:\\Users\\86195\\.conda\\envs\\transformers\\lib\\site-packages\\anyio\\_backends\\_asyncio.py\", line 877, in run_sync_in_worker_thread\n",
      "    return await future\n",
      "  File \"c:\\Users\\86195\\.conda\\envs\\transformers\\lib\\site-packages\\anyio\\_backends\\_asyncio.py\", line 807, in run\n",
      "    result = context.run(func, *args)\n",
      "  File \"C:\\Users\\86195\\AppData\\Local\\Temp\\ipykernel_4476\\3193623380.py\", line 9, in echo\n",
      "    outputs=model.generate(**inputs,max_length=20)\n",
      "TypeError: transformers.generation.utils.GenerationMixin.generate() argument after ** must be a mapping, not Tensor\n"
     ]
    }
   ],
   "source": [
    "from transformers import AutoModelForCausalLM, AutoTokenizer\n",
    "import gradio as gr\n",
    "model_id = \"E:\\model\\language\\opt-125m\"\n",
    "model=AutoModelForCausalLM.from_pretrained(model_id,trust_remote_code=True).cuda()\n",
    "tokenizer=AutoTokenizer.from_pretrained(model_id,trust_remote_code=True)\n",
    "\n",
    "def echo(message, history):\n",
    "    inputs=tokenizer.encode(message,return_tensors=\"pt\")\n",
    "    outputs=model.generate(**inputs,max_length=20)\n",
    "    return tokenizer.decode(outputs[0],skip_special_tokens=True)\n",
    "\n",
    "\n",
    "demo = gr.ChatInterface(fn=echo, examples=[\"hello\", \"hola\", \"merhaba\"], title=\"Echo Bot\")\n",
    "demo.launch()\n"
   ]
  },
  {
   "cell_type": "code",
   "execution_count": null,
   "metadata": {},
   "outputs": [],
   "source": []
  }
 ],
 "metadata": {
  "kernelspec": {
   "display_name": "transformers",
   "language": "python",
   "name": "python3"
  },
  "language_info": {
   "codemirror_mode": {
    "name": "ipython",
    "version": 3
   },
   "file_extension": ".py",
   "mimetype": "text/x-python",
   "name": "python",
   "nbconvert_exporter": "python",
   "pygments_lexer": "ipython3",
   "version": "3.10.13"
  }
 },
 "nbformat": 4,
 "nbformat_minor": 2
}
