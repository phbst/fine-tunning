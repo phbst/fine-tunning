{
 "cells": [
  {
   "cell_type": "code",
   "execution_count": 4,
   "metadata": {},
   "outputs": [],
   "source": [
    "from PyPDF2 import PdfReader\n",
    "\n",
    "def pdf_to_text(pdf_file_path, txt_file_path):\n",
    "    with open(pdf_file_path, 'rb') as pdf_file:\n",
    "        pdf_reader = PdfReader(pdf_file)\n",
    "        with open(txt_file_path, 'w', encoding='utf-8') as txt_file:\n",
    "            num_pages = len(pdf_reader.pages)\n",
    "            for page_num in range(num_pages):\n",
    "                text = pdf_reader.pages[page_num].extract_text()\n",
    "                txt_file.write(text)\n",
    "\n",
    "\n",
    "pdf_file_path = './static/docs/中华人民共和国消费者权益保护法.pdf'  # PDF文件路径\n",
    "txt_file_path = './static/docs/中华人民共和国消费者权益保护法.txt'  # TXT文件路径\n",
    "\n",
    "pdf_to_text(pdf_file_path, txt_file_path)\n"
   ]
  },
  {
   "cell_type": "code",
   "execution_count": null,
   "metadata": {},
   "outputs": [],
   "source": [
    "publish_display_data()"
   ]
  },
  {
   "cell_type": "code",
   "execution_count": 3,
   "metadata": {},
   "outputs": [],
   "source": [
    "import os\n",
    "import subprocess\n",
    "\n",
    "os.environ['HF_ENDPOINT'] = '[https://hf-mirror.com](https://hf-mirror.com/)'\n",
    "\n",
    "def download_model(model_name):\n",
    "    try:\n",
    "        subprocess.run(['huggingface-cli', 'download', '--resume-download', model_name,'--local-dir',model_name], check=True)\n",
    "        print(f\"Model '{model_name}' downloaded successfully.\")\n",
    "    except subprocess.CalledProcessError as e:\n",
    "        print(f\"Error downloading model '{model_name}': {e}\")\n",
    "\n",
    "def download_dataset(dataset_name):\n",
    "    try:\n",
    "        subprocess.run(['huggingface-cli', 'download', '--resume-download','--repo-type','dataset',dataset_name,\"--local-dir\",\"E:\\\\database_embedding\\\\jina\"], check=True)\n",
    "        print(f\"Dataset '{dataset_name}' downloaded successfully.\")\n",
    "    except subprocess.CalledProcessError as e:\n",
    "        print(f\"Error downloading dataset '{dataset_name}': {e}\")"
   ]
  },
  {
   "cell_type": "code",
   "execution_count": 5,
   "metadata": {},
   "outputs": [
    {
     "name": "stdout",
     "output_type": "stream",
     "text": [
      "Error downloading model 'jinaai/jina-embeddings-v2-base-zh': Command '['huggingface-cli', 'download', '--resume-download', 'jinaai/jina-embeddings-v2-base-zh', '--local-dir', 'jinaai/jina-embeddings-v2-base-zh']' returned non-zero exit status 1.\n"
     ]
    }
   ],
   "source": [
    "download_model(\"jinaai/jina-embeddings-v2-base-zh\")"
   ]
  },
  {
   "cell_type": "code",
   "execution_count": null,
   "metadata": {},
   "outputs": [],
   "source": []
  }
 ],
 "metadata": {
  "kernelspec": {
   "display_name": "transformers",
   "language": "python",
   "name": "python3"
  },
  "language_info": {
   "codemirror_mode": {
    "name": "ipython",
    "version": 3
   },
   "file_extension": ".py",
   "mimetype": "text/x-python",
   "name": "python",
   "nbconvert_exporter": "python",
   "pygments_lexer": "ipython3",
   "version": "3.10.13"
  }
 },
 "nbformat": 4,
 "nbformat_minor": 2
}
