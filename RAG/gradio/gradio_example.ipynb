{
 "cells": [
  {
   "cell_type": "markdown",
   "metadata": {},
   "source": [
    "### 最简gradio界面"
   ]
  },
  {
   "cell_type": "code",
   "execution_count": 6,
   "metadata": {},
   "outputs": [
    {
     "name": "stdout",
     "output_type": "stream",
     "text": [
      "Running on local URL:  http://127.0.0.1:7866\n",
      "\n",
      "To create a public link, set `share=True` in `launch()`.\n"
     ]
    },
    {
     "data": {
      "text/html": [
       "<div><iframe src=\"http://127.0.0.1:7866/\" width=\"100%\" height=\"500\" allow=\"autoplay; camera; microphone; clipboard-read; clipboard-write;\" frameborder=\"0\" allowfullscreen></iframe></div>"
      ],
      "text/plain": [
       "<IPython.core.display.HTML object>"
      ]
     },
     "metadata": {},
     "output_type": "display_data"
    },
    {
     "data": {
      "text/plain": []
     },
     "execution_count": 6,
     "metadata": {},
     "output_type": "execute_result"
    }
   ],
   "source": [
    "import gradio as gr\n",
    "\n",
    "def echo(message, history):\n",
    "\n",
    "    return message\n",
    "\n",
    "demo = gr.ChatInterface(fn=echo, examples=[\"hello\", \"hola\", \"merhaba\"], title=\"Echo Bot\")\n",
    "demo.launch()"
   ]
  },
  {
   "cell_type": "markdown",
   "metadata": {},
   "source": [
    "### 使用llm来进行回答"
   ]
  },
  {
   "cell_type": "code",
   "execution_count": 9,
   "metadata": {},
   "outputs": [
    {
     "name": "stdout",
     "output_type": "stream",
     "text": [
      "Running on local URL:  http://127.0.0.1:7874\n",
      "\n",
      "To create a public link, set `share=True` in `launch()`.\n"
     ]
    },
    {
     "data": {
      "text/html": [
       "<div><iframe src=\"http://127.0.0.1:7874/\" width=\"100%\" height=\"500\" allow=\"autoplay; camera; microphone; clipboard-read; clipboard-write;\" frameborder=\"0\" allowfullscreen></iframe></div>"
      ],
      "text/plain": [
       "<IPython.core.display.HTML object>"
      ]
     },
     "metadata": {},
     "output_type": "display_data"
    },
    {
     "data": {
      "text/plain": []
     },
     "execution_count": 9,
     "metadata": {},
     "output_type": "execute_result"
    },
    {
     "name": "stderr",
     "output_type": "stream",
     "text": [
      "Exception in thread Thread-35 (_do_normal_analytics_request):\n",
      "Traceback (most recent call last):\n",
      "  File \"c:\\Users\\86195\\.conda\\envs\\transformers\\lib\\site-packages\\httpcore\\_exceptions.py\", line 10, in map_exceptions\n",
      "    yield\n",
      "  File \"c:\\Users\\86195\\.conda\\envs\\transformers\\lib\\site-packages\\httpcore\\_backends\\sync.py\", line 168, in start_tls\n",
      "    raise exc\n",
      "  File \"c:\\Users\\86195\\.conda\\envs\\transformers\\lib\\site-packages\\httpcore\\_backends\\sync.py\", line 163, in start_tls\n",
      "    sock = ssl_context.wrap_socket(\n",
      "  File \"c:\\Users\\86195\\.conda\\envs\\transformers\\lib\\ssl.py\", line 513, in wrap_socket\n",
      "    return self.sslsocket_class._create(\n",
      "  File \"c:\\Users\\86195\\.conda\\envs\\transformers\\lib\\ssl.py\", line 1104, in _create\n",
      "    self.do_handshake()\n",
      "  File \"c:\\Users\\86195\\.conda\\envs\\transformers\\lib\\ssl.py\", line 1375, in do_handshake\n",
      "    self._sslobj.do_handshake()\n",
      "TimeoutError: _ssl.c:990: The handshake operation timed out\n",
      "\n",
      "The above exception was the direct cause of the following exception:\n",
      "\n",
      "Traceback (most recent call last):\n",
      "  File \"c:\\Users\\86195\\.conda\\envs\\transformers\\lib\\site-packages\\httpx\\_transports\\default.py\", line 66, in map_httpcore_exceptions\n",
      "    yield\n",
      "  File \"c:\\Users\\86195\\.conda\\envs\\transformers\\lib\\site-packages\\httpx\\_transports\\default.py\", line 228, in handle_request\n",
      "    resp = self._pool.handle_request(req)\n",
      "  File \"c:\\Users\\86195\\.conda\\envs\\transformers\\lib\\site-packages\\httpcore\\_sync\\connection_pool.py\", line 268, in handle_request\n",
      "    raise exc\n",
      "  File \"c:\\Users\\86195\\.conda\\envs\\transformers\\lib\\site-packages\\httpcore\\_sync\\connection_pool.py\", line 251, in handle_request\n",
      "    response = connection.handle_request(request)\n",
      "  File \"c:\\Users\\86195\\.conda\\envs\\transformers\\lib\\site-packages\\httpcore\\_sync\\http_proxy.py\", line 317, in handle_request\n",
      "    stream = stream.start_tls(**kwargs)\n",
      "  File \"c:\\Users\\86195\\.conda\\envs\\transformers\\lib\\site-packages\\httpcore\\_backends\\sync.py\", line 152, in start_tls\n",
      "    with map_exceptions(exc_map):\n",
      "  File \"c:\\Users\\86195\\.conda\\envs\\transformers\\lib\\contextlib.py\", line 153, in __exit__\n",
      "    self.gen.throw(typ, value, traceback)\n",
      "  File \"c:\\Users\\86195\\.conda\\envs\\transformers\\lib\\site-packages\\httpcore\\_exceptions.py\", line 14, in map_exceptions\n",
      "    raise to_exc(exc) from exc\n",
      "httpcore.ConnectTimeout: _ssl.c:990: The handshake operation timed out\n",
      "\n",
      "The above exception was the direct cause of the following exception:\n",
      "\n",
      "Traceback (most recent call last):\n",
      "  File \"c:\\Users\\86195\\.conda\\envs\\transformers\\lib\\threading.py\", line 1016, in _bootstrap_inner\n",
      "    self.run()\n",
      "  File \"c:\\Users\\86195\\.conda\\envs\\transformers\\lib\\threading.py\", line 953, in run\n",
      "    self._target(*self._args, **self._kwargs)\n",
      "  File \"c:\\Users\\86195\\.conda\\envs\\transformers\\lib\\site-packages\\gradio\\analytics.py\", line 63, in _do_normal_analytics_request\n",
      "    httpx.post(url, data=data, timeout=5)\n",
      "  File \"c:\\Users\\86195\\.conda\\envs\\transformers\\lib\\site-packages\\httpx\\_api.py\", line 304, in post\n",
      "    return request(\n",
      "  File \"c:\\Users\\86195\\.conda\\envs\\transformers\\lib\\site-packages\\httpx\\_api.py\", line 100, in request\n",
      "    return client.request(\n",
      "  File \"c:\\Users\\86195\\.conda\\envs\\transformers\\lib\\site-packages\\httpx\\_client.py\", line 814, in request\n",
      "    return self.send(request, auth=auth, follow_redirects=follow_redirects)\n",
      "  File \"c:\\Users\\86195\\.conda\\envs\\transformers\\lib\\site-packages\\httpx\\_client.py\", line 901, in send\n",
      "    response = self._send_handling_auth(\n",
      "  File \"c:\\Users\\86195\\.conda\\envs\\transformers\\lib\\site-packages\\httpx\\_client.py\", line 929, in _send_handling_auth\n",
      "    response = self._send_handling_redirects(\n",
      "  File \"c:\\Users\\86195\\.conda\\envs\\transformers\\lib\\site-packages\\httpx\\_client.py\", line 966, in _send_handling_redirects\n",
      "    response = self._send_single_request(request)\n",
      "  File \"c:\\Users\\86195\\.conda\\envs\\transformers\\lib\\site-packages\\httpx\\_client.py\", line 1002, in _send_single_request\n",
      "    response = transport.handle_request(request)\n",
      "  File \"c:\\Users\\86195\\.conda\\envs\\transformers\\lib\\site-packages\\httpx\\_transports\\default.py\", line 227, in handle_request\n",
      "    with map_httpcore_exceptions():\n",
      "  File \"c:\\Users\\86195\\.conda\\envs\\transformers\\lib\\contextlib.py\", line 153, in __exit__\n",
      "    self.gen.throw(typ, value, traceback)\n",
      "  File \"c:\\Users\\86195\\.conda\\envs\\transformers\\lib\\site-packages\\httpx\\_transports\\default.py\", line 83, in map_httpcore_exceptions\n",
      "    raise mapped_exc(message) from exc\n",
      "httpx.ConnectTimeout: _ssl.c:990: The handshake operation timed out\n",
      "Exception in thread Thread-37 (_do_normal_analytics_request):\n",
      "Traceback (most recent call last):\n",
      "  File \"c:\\Users\\86195\\.conda\\envs\\transformers\\lib\\site-packages\\httpcore\\_exceptions.py\", line 10, in map_exceptions\n",
      "    yield\n",
      "  File \"c:\\Users\\86195\\.conda\\envs\\transformers\\lib\\site-packages\\httpcore\\_backends\\sync.py\", line 168, in start_tls\n",
      "    raise exc\n",
      "  File \"c:\\Users\\86195\\.conda\\envs\\transformers\\lib\\site-packages\\httpcore\\_backends\\sync.py\", line 163, in start_tls\n",
      "    sock = ssl_context.wrap_socket(\n",
      "  File \"c:\\Users\\86195\\.conda\\envs\\transformers\\lib\\ssl.py\", line 513, in wrap_socket\n",
      "    return self.sslsocket_class._create(\n",
      "  File \"c:\\Users\\86195\\.conda\\envs\\transformers\\lib\\ssl.py\", line 1104, in _create\n",
      "    self.do_handshake()\n",
      "  File \"c:\\Users\\86195\\.conda\\envs\\transformers\\lib\\ssl.py\", line 1375, in do_handshake\n",
      "    self._sslobj.do_handshake()\n",
      "TimeoutError: _ssl.c:990: The handshake operation timed out\n",
      "\n",
      "The above exception was the direct cause of the following exception:\n",
      "\n",
      "Traceback (most recent call last):\n",
      "  File \"c:\\Users\\86195\\.conda\\envs\\transformers\\lib\\site-packages\\httpx\\_transports\\default.py\", line 66, in map_httpcore_exceptions\n",
      "    yield\n",
      "  File \"c:\\Users\\86195\\.conda\\envs\\transformers\\lib\\site-packages\\httpx\\_transports\\default.py\", line 228, in handle_request\n",
      "    resp = self._pool.handle_request(req)\n",
      "  File \"c:\\Users\\86195\\.conda\\envs\\transformers\\lib\\site-packages\\httpcore\\_sync\\connection_pool.py\", line 268, in handle_request\n",
      "    raise exc\n",
      "  File \"c:\\Users\\86195\\.conda\\envs\\transformers\\lib\\site-packages\\httpcore\\_sync\\connection_pool.py\", line 251, in handle_request\n",
      "    response = connection.handle_request(request)\n",
      "  File \"c:\\Users\\86195\\.conda\\envs\\transformers\\lib\\site-packages\\httpcore\\_sync\\http_proxy.py\", line 317, in handle_request\n",
      "    stream = stream.start_tls(**kwargs)\n",
      "  File \"c:\\Users\\86195\\.conda\\envs\\transformers\\lib\\site-packages\\httpcore\\_backends\\sync.py\", line 152, in start_tls\n",
      "    with map_exceptions(exc_map):\n",
      "  File \"c:\\Users\\86195\\.conda\\envs\\transformers\\lib\\contextlib.py\", line 153, in __exit__\n",
      "    self.gen.throw(typ, value, traceback)\n",
      "  File \"c:\\Users\\86195\\.conda\\envs\\transformers\\lib\\site-packages\\httpcore\\_exceptions.py\", line 14, in map_exceptions\n",
      "    raise to_exc(exc) from exc\n",
      "httpcore.ConnectTimeout: _ssl.c:990: The handshake operation timed out\n",
      "\n",
      "The above exception was the direct cause of the following exception:\n",
      "\n",
      "Traceback (most recent call last):\n",
      "  File \"c:\\Users\\86195\\.conda\\envs\\transformers\\lib\\threading.py\", line 1016, in _bootstrap_inner\n",
      "    self.run()\n",
      "  File \"c:\\Users\\86195\\.conda\\envs\\transformers\\lib\\threading.py\", line 953, in run\n",
      "    self._target(*self._args, **self._kwargs)\n",
      "  File \"c:\\Users\\86195\\.conda\\envs\\transformers\\lib\\site-packages\\gradio\\analytics.py\", line 63, in _do_normal_analytics_request\n",
      "    httpx.post(url, data=data, timeout=5)\n",
      "  File \"c:\\Users\\86195\\.conda\\envs\\transformers\\lib\\site-packages\\httpx\\_api.py\", line 304, in post\n",
      "    return request(\n",
      "  File \"c:\\Users\\86195\\.conda\\envs\\transformers\\lib\\site-packages\\httpx\\_api.py\", line 100, in request\n",
      "    return client.request(\n",
      "  File \"c:\\Users\\86195\\.conda\\envs\\transformers\\lib\\site-packages\\httpx\\_client.py\", line 814, in request\n",
      "    return self.send(request, auth=auth, follow_redirects=follow_redirects)\n",
      "  File \"c:\\Users\\86195\\.conda\\envs\\transformers\\lib\\site-packages\\httpx\\_client.py\", line 901, in send\n",
      "    response = self._send_handling_auth(\n",
      "  File \"c:\\Users\\86195\\.conda\\envs\\transformers\\lib\\site-packages\\httpx\\_client.py\", line 929, in _send_handling_auth\n",
      "    response = self._send_handling_redirects(\n",
      "  File \"c:\\Users\\86195\\.conda\\envs\\transformers\\lib\\site-packages\\httpx\\_client.py\", line 966, in _send_handling_redirects\n",
      "    response = self._send_single_request(request)\n",
      "  File \"c:\\Users\\86195\\.conda\\envs\\transformers\\lib\\site-packages\\httpx\\_client.py\", line 1002, in _send_single_request\n",
      "    response = transport.handle_request(request)\n",
      "  File \"c:\\Users\\86195\\.conda\\envs\\transformers\\lib\\site-packages\\httpx\\_transports\\default.py\", line 227, in handle_request\n",
      "    with map_httpcore_exceptions():\n",
      "  File \"c:\\Users\\86195\\.conda\\envs\\transformers\\lib\\contextlib.py\", line 153, in __exit__\n",
      "    self.gen.throw(typ, value, traceback)\n",
      "  File \"c:\\Users\\86195\\.conda\\envs\\transformers\\lib\\site-packages\\httpx\\_transports\\default.py\", line 83, in map_httpcore_exceptions\n",
      "    raise mapped_exc(message) from exc\n",
      "httpx.ConnectTimeout: _ssl.c:990: The handshake operation timed out\n"
     ]
    }
   ],
   "source": [
    "from transformers import AutoModelForCausalLM, AutoTokenizer\n",
    "import gradio as gr\n",
    "model_id = \"E:\\model\\language\\opt-125m\"\n",
    "model=AutoModelForCausalLM.from_pretrained(model_id,trust_remote_code=True).cuda()\n",
    "tokenizer=AutoTokenizer.from_pretrained(model_id,trust_remote_code=True)\n",
    "\n",
    "def echo(message, history):\n",
    "    inputs=tokenizer(message,return_tensors=\"pt\").to(\"cuda:0\")\n",
    "    outputs=model.generate(**inputs,max_length=20)\n",
    "    result=tokenizer.decode(outputs[0],skip_special_tokens=True)\n",
    "    for i in range(len(result)):\n",
    "        time.sleep(0.05)\n",
    "        yield result[: i+1]\n",
    "\n",
    "        #自定义的流式输出\n",
    "\n",
    "\n",
    "\n",
    "demo = gr.ChatInterface(fn=echo, \n",
    "                        examples=[\"hello\", \"hola\", \"merhaba\"], \n",
    "                        title=\"Echo Bot\",\n",
    "                        theme=\"soft\")\n",
    "demo.launch()\n"
   ]
  },
  {
   "cell_type": "code",
   "execution_count": 1,
   "metadata": {},
   "outputs": [
    {
     "name": "stdout",
     "output_type": "stream",
     "text": [
      "Running on local URL:  http://127.0.0.1:7860\n",
      "\n",
      "To create a public link, set `share=True` in `launch()`.\n"
     ]
    },
    {
     "data": {
      "text/html": [
       "<div><iframe src=\"http://127.0.0.1:7860/\" width=\"100%\" height=\"500\" allow=\"autoplay; camera; microphone; clipboard-read; clipboard-write;\" frameborder=\"0\" allowfullscreen></iframe></div>"
      ],
      "text/plain": [
       "<IPython.core.display.HTML object>"
      ]
     },
     "metadata": {},
     "output_type": "display_data"
    },
    {
     "data": {
      "text/plain": []
     },
     "execution_count": 1,
     "metadata": {},
     "output_type": "execute_result"
    }
   ],
   "source": [
    "import time\n",
    "import gradio as gr\n",
    "\n",
    "def slow_echo(message, history):\n",
    "    for i in range(len(message)):\n",
    "        time.sleep(0.3)\n",
    "        yield \"You typed: \" + message[: i+1]\n",
    "\n",
    "gr.ChatInterface(slow_echo).launch()"
   ]
  },
  {
   "cell_type": "code",
   "execution_count": 8,
   "metadata": {},
   "outputs": [
    {
     "name": "stdout",
     "output_type": "stream",
     "text": [
      "Running on local URL:  http://127.0.0.1:7873\n",
      "\n",
      "To create a public link, set `share=True` in `launch()`.\n"
     ]
    },
    {
     "data": {
      "text/html": [
       "<div><iframe src=\"http://127.0.0.1:7873/\" width=\"100%\" height=\"500\" allow=\"autoplay; camera; microphone; clipboard-read; clipboard-write;\" frameborder=\"0\" allowfullscreen></iframe></div>"
      ],
      "text/plain": [
       "<IPython.core.display.HTML object>"
      ]
     },
     "metadata": {},
     "output_type": "display_data"
    }
   ],
   "source": [
    "import gradio as gr\n",
    "import time\n",
    "\n",
    "def echo(message, history, system_prompt, tokens):\n",
    "    response = f\"System prompt: {system_prompt}\\n Message: {message}.\"\n",
    "    for i in range(min(len(response), int(tokens))):\n",
    "        time.sleep(0.05)\n",
    "        yield response[: i+1]\n",
    "\n",
    "demo = gr.ChatInterface(echo, \n",
    "                        additional_inputs=[\n",
    "                            gr.Textbox(\"You are helpful AI.\", label=\"System Prompt\"), \n",
    "                            gr.Slider(10, 100)\n",
    "                        ]\n",
    "                       )\n",
    "\n",
    "if __name__ == \"__main__\":\n",
    "    demo.queue().launch()"
   ]
  },
  {
   "cell_type": "code",
   "execution_count": null,
   "metadata": {},
   "outputs": [],
   "source": []
  }
 ],
 "metadata": {
  "kernelspec": {
   "display_name": "transformers",
   "language": "python",
   "name": "python3"
  },
  "language_info": {
   "codemirror_mode": {
    "name": "ipython",
    "version": 3
   },
   "file_extension": ".py",
   "mimetype": "text/x-python",
   "name": "python",
   "nbconvert_exporter": "python",
   "pygments_lexer": "ipython3",
   "version": "3.10.13"
  }
 },
 "nbformat": 4,
 "nbformat_minor": 2
}
