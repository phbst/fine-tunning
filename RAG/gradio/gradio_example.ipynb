{
 "cells": [
  {
   "cell_type": "markdown",
   "metadata": {},
   "source": [
    "### 最简gradio界面"
   ]
  },
  {
   "cell_type": "code",
   "execution_count": null,
   "metadata": {},
   "outputs": [],
   "source": [
    "import gradio as gr\n",
    "\n",
    "def echo(message, history):\n",
    "\n",
    "    return message\n",
    "\n",
    "demo = gr.ChatInterface(fn=echo, examples=[\"hello\", \"hola\", \"merhaba\"], title=\"Echo Bot\")\n",
    "demo.launch()"
   ]
  },
  {
   "cell_type": "markdown",
   "metadata": {},
   "source": [
    "### 使用本地llm来进行回答"
   ]
  },
  {
   "cell_type": "code",
   "execution_count": null,
   "metadata": {},
   "outputs": [],
   "source": [
    "from transformers import AutoModelForCausalLM, AutoTokenizer\n",
    "import gradio as gr\n",
    "model_id = \"E:\\model\\language\\opt-125m\"\n",
    "model=AutoModelForCausalLM.from_pretrained(model_id,trust_remote_code=True).cuda()\n",
    "tokenizer=AutoTokenizer.from_pretrained(model_id,trust_remote_code=True)\n",
    "\n",
    "def echo(message, history):\n",
    "    inputs=tokenizer(message,return_tensors=\"pt\").to(\"cuda:0\")\n",
    "    outputs=model.generate(**inputs,max_length=20)\n",
    "    result=tokenizer.decode(outputs[0],skip_special_tokens=True)\n",
    "    for i in range(len(result)):\n",
    "        time.sleep(0.05)\n",
    "        yield result[: i+1]\n",
    "\n",
    "        #自定义的流式输出\n",
    "\n",
    "\n",
    "\n",
    "demo = gr.ChatInterface(fn=echo, \n",
    "                        examples=[\"hello\", \"hola\", \"merhaba\"], \n",
    "                        title=\"Echo Bot\",\n",
    "                        theme=\"soft\")\n",
    "demo.launch()\n"
   ]
  },
  {
   "cell_type": "markdown",
   "metadata": {},
   "source": [
    "#### 使用openai api"
   ]
  },
  {
   "cell_type": "code",
   "execution_count": 5,
   "metadata": {},
   "outputs": [
    {
     "name": "stdout",
     "output_type": "stream",
     "text": [
      "Running on local URL:  http://127.0.0.1:7864\n",
      "\n",
      "To create a public link, set `share=True` in `launch()`.\n"
     ]
    },
    {
     "data": {
      "text/html": [
       "<div><iframe src=\"http://127.0.0.1:7864/\" width=\"100%\" height=\"500\" allow=\"autoplay; camera; microphone; clipboard-read; clipboard-write;\" frameborder=\"0\" allowfullscreen></iframe></div>"
      ],
      "text/plain": [
       "<IPython.core.display.HTML object>"
      ]
     },
     "metadata": {},
     "output_type": "display_data"
    },
    {
     "data": {
      "text/plain": []
     },
     "execution_count": 5,
     "metadata": {},
     "output_type": "execute_result"
    }
   ],
   "source": [
    "\n",
    "import gradio as gr\n",
    "from langchain_openai import ChatOpenAI\n",
    "import time\n",
    "chat=ChatOpenAI(temperature=1)\n",
    "\n",
    "def echo(message, history):\n",
    "    result=chat.invoke(message).content\n",
    "    for i in range(len(result)):\n",
    "        time.sleep(0.02)\n",
    "        yield result[: i+1]\n",
    "\n",
    "        #自定义的流式输出\n",
    "\n",
    "\n",
    "\n",
    "demo = gr.ChatInterface(fn=echo, \n",
    "                        examples=[\"hello\", \"hola\", \"merhaba\",\"使用python写快速排序算法\"], \n",
    "                        title=\"Echo Bot\",\n",
    "                        theme=\"soft\")\n",
    "demo.launch()"
   ]
  },
  {
   "cell_type": "code",
   "execution_count": null,
   "metadata": {},
   "outputs": [],
   "source": []
  }
 ],
 "metadata": {
  "kernelspec": {
   "display_name": "transformers",
   "language": "python",
   "name": "python3"
  },
  "language_info": {
   "codemirror_mode": {
    "name": "ipython",
    "version": 3
   },
   "file_extension": ".py",
   "mimetype": "text/x-python",
   "name": "python",
   "nbconvert_exporter": "python",
   "pygments_lexer": "ipython3",
   "version": "3.10.13"
  }
 },
 "nbformat": 4,
 "nbformat_minor": 2
}
