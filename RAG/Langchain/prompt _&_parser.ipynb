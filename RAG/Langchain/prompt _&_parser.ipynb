{
 "cells": [
  {
   "cell_type": "markdown",
   "metadata": {},
   "source": [
    "### 其实所谓的prompt(提示词)就是你的输入\n",
    "```bash\n",
    "\"你的问题\"\n",
    "```\n",
    "\n",
    "### template(模板)也就是一个提示，给予模型某些定义，可以这么理解\"\n",
    "\n",
    "```bash\n",
    "you are a chat bot.answer this qustion {}”.format(\"你的问题\")\n",
    "```\n",
    "\n",
    "### 而parser(解析器)也是一种提示，提示模型怎么回答，可以这么理解\n",
    "\n",
    "```bash\n",
    "you are a chat bot.answer this qustion {}”.format(\"你的问题\") #template\n",
    "\n",
    "请使用一下格式回答问题 #parser\n",
    "{\n",
    "    answe:\n",
    "}\n",
    "```"
   ]
  },
  {
   "cell_type": "markdown",
   "metadata": {},
   "source": []
  },
  {
   "cell_type": "markdown",
   "metadata": {},
   "source": []
  }
 ],
 "metadata": {
  "kernelspec": {
   "display_name": "transformers",
   "language": "python",
   "name": "python3"
  },
  "language_info": {
   "name": "python",
   "version": "3.10.13"
  }
 },
 "nbformat": 4,
 "nbformat_minor": 2
}
