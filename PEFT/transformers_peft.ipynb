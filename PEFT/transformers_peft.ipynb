{
 "cells": [
  {
   "cell_type": "markdown",
   "metadata": {},
   "source": [
    "# Hugging Face Transformers 微调训练入门\n",
    "\n",
    "本示例将介绍基于 Transformers 实现模型微调训练的主要流程，包括：\n",
    "- 数据集下载\n",
    "- 数据预处理\n",
    "- 训练超参数配置\n",
    "- 训练评估指标设置\n",
    "- 训练器基本介绍\n",
    "- 实战训练\n",
    "- 模型保存"
   ]
  },
  {
   "cell_type": "markdown",
   "metadata": {},
   "source": []
  },
  {
   "cell_type": "markdown",
   "metadata": {},
   "source": [
    "## 下载数据集"
   ]
  },
  {
   "cell_type": "code",
   "execution_count": 1,
   "metadata": {},
   "outputs": [],
   "source": [
    "from datasets import load_dataset\n",
    "\n",
    "dataset=load_dataset(\"yelp_review_full\")"
   ]
  },
  {
   "cell_type": "code",
   "execution_count": 2,
   "metadata": {},
   "outputs": [
    {
     "data": {
      "text/plain": [
       "DatasetDict({\n",
       "    train: Dataset({\n",
       "        features: ['label', 'text'],\n",
       "        num_rows: 650000\n",
       "    })\n",
       "    test: Dataset({\n",
       "        features: ['label', 'text'],\n",
       "        num_rows: 50000\n",
       "    })\n",
       "})"
      ]
     },
     "execution_count": 2,
     "metadata": {},
     "output_type": "execute_result"
    }
   ],
   "source": [
    "dataset"
   ]
  },
  {
   "cell_type": "markdown",
   "metadata": {},
   "source": [
    "## 检查数据"
   ]
  },
  {
   "cell_type": "code",
   "execution_count": 3,
   "metadata": {},
   "outputs": [],
   "source": [
    "import random\n",
    "import pandas as pd\n",
    "import datasets\n",
    "from IPython.display import display, HTML\n",
    "def show_random_elements(dataset, num_examples=10):\n",
    "    assert num_examples <= len(dataset), \"Can't pick more elements than there are in the dataset.\"\n",
    "    picks = []\n",
    "    for _ in range(num_examples):\n",
    "        pick = random.randint(0, len(dataset)-1)\n",
    "        while pick in picks:\n",
    "            pick = random.randint(0, len(dataset)-1)\n",
    "        picks.append(pick)\n",
    "    \n",
    "    df = pd.DataFrame(dataset[picks])\n",
    "    for column, typ in dataset.features.items():\n",
    "        if isinstance(typ, datasets.ClassLabel):\n",
    "            df[column] = df[column].transform(lambda i: typ.names[i])\n",
    "    display(HTML(df.to_html()))"
   ]
  },
  {
   "cell_type": "code",
   "execution_count": 4,
   "metadata": {},
   "outputs": [
    {
     "data": {
      "text/html": [
       "<table border=\"1\" class=\"dataframe\">\n",
       "  <thead>\n",
       "    <tr style=\"text-align: right;\">\n",
       "      <th></th>\n",
       "      <th>label</th>\n",
       "      <th>text</th>\n",
       "    </tr>\n",
       "  </thead>\n",
       "  <tbody>\n",
       "    <tr>\n",
       "      <th>0</th>\n",
       "      <td>1 star</td>\n",
       "      <td>This place is really pretty low budget.  The day care aspect isn't terrible because it is really just a bunch of dogs running around an empty room and that isnt to hard to mess up.  The staff is also friendly and but the real disaster of the place is grooming.\\n\\nI took my dog in to get groomed and the groomer cut my dog all the way down to his muscle!!!!  When I picked him up I found out that he was cut 2-3 hours earlier and was just left alone while his arm was bleeding and muscle was exposed.\\nI immediately took him to the vet who was absolutley appauled that he was left alone and untreated after such a serious injury.  After the vet cleaned up all the dried blood around the wound, she cleaned all of the dirt out of the wound!  She then patched his arm up with a few sutures and started him on pain meds and antibiotics for 10 days.\\n\\nWe will not be returning and warn all others to seriously consider using a differernt groomer.</td>\n",
       "    </tr>\n",
       "    <tr>\n",
       "      <th>1</th>\n",
       "      <td>4 stars</td>\n",
       "      <td>This market was wonderful. It had a wide variety of items for sale (including chocolates :-) ) But one of the main reasons why people come here is for the coffee and fresh baked goods. One of the best croissants you will ever eat will be found here to say nothing about the bread and butter. I know these may seem like simple, common food items but when executed with excellence there is nothing better. I find myself longing to relive those food experiences that I was fortunate enough to share with my dear friend and family; I will remember it fondly.</td>\n",
       "    </tr>\n",
       "    <tr>\n",
       "      <th>2</th>\n",
       "      <td>3 stars</td>\n",
       "      <td>I'm surprised that no one's bothered to review this place. I'm not even from Vegas, nor did I actually eat anything here!\\n\\nThat disclaimer aside, I'm giving it three stars based on the following:\\n\\n*The waiter may not have understood what 'vegan' meant (when I was trying to explain to him why I wasn't going to/couldn't order anything) but was ridiculously kind, and even offered to bring me a bowl of grapes.\\n\\n*The BF discovered that unlike all the IHOPs in CA, this IHOP had no vegetarian omelet on the menu, nor avocado as an ingredient in the create-your-own department. So he had to order a country omelet, and substitute tomatoes for the ham. The waiter looked confused, but did his best to accommodate him.\\n\\n*Dirty bathroom. Ewww...\\n\\n*Cherry Diet Coke = Yay!</td>\n",
       "    </tr>\n",
       "    <tr>\n",
       "      <th>3</th>\n",
       "      <td>3 stars</td>\n",
       "      <td>The main reason for coming to this theater is the location, it's the closest Harkins by our house. I also love the $1 refill souvenir cups! The chairs are pretty comfy but I must say AMC's are much better. The employees are nice/friendly. It's not the cleanest theater, but I wouldn't say it's dirty. The bathrooms are ok, kind of a mess at times. \\n\\nI have noticed they tend to encounter technical difficulties often. A few months back we went to go see The Other Guys &amp; during previews the manager came in saying they were working on fixing the screen. There were doubles of everything, kinda like we were all drunk. Well 10 minutes later she came back saying they weren't able to fix it. WTF!? They gave each person 2 free passes &amp; said we could go see another movie playing if we wanted to. We were already there &amp; everything so we saw Dinner For Schmucks, awful movie! \\n\\nThen, this past Friday we went to go see Due Date (awesome movie, hilarious!). It was near the last 10-15 minutes of the movie &amp; all of a sudden the sound went out! Luckily, the picture was fine so we could see what was happening but again WTF!? The manager came in while they stopped the movie &amp; said they aren't able to \\\"rewind\\\" the movie so everyone would get 1 free pass, pretty sweet considering we did see the movie &amp; only missed a minute or 2.</td>\n",
       "    </tr>\n",
       "    <tr>\n",
       "      <th>4</th>\n",
       "      <td>3 stars</td>\n",
       "      <td>Hmmmm. This is a Vegas classic, dark, smokey, cheap drinks and cheap food. I was there with a group of maybe 12. We did find seating, although we had to inhabit one of their 4- plex poker machine table thingys. I'm not much of a gambler but this place obviously caters to them big time. There are quite a few machines of all types stuffed into this place (and this place isn't all that big)\\nThere was some kind of big wheel thing that people were spinning off and on throughout the night, not sure what you win, but it was the center of attention when someone stepped up to it.\\nLike I said, cheap drinks and cheap food. Friendly bartenders are key, and they nailed that one on the proverbial head. You can tell the regulars there too, nice people they were. Easy to strike up some convo with. Not a place I'd go out of my way for, but if in the area, it's a good watering hole for sure.</td>\n",
       "    </tr>\n",
       "    <tr>\n",
       "      <th>5</th>\n",
       "      <td>2 star</td>\n",
       "      <td>Reasonably priced breakfast buffet however, the buffet out of all hotel buffets on the strip is considered in my opinion as I'd say lower quality compared to for example the Mandalay bay. Food kinda blows and if you want breakfast here, you better come early to snag a table otherwise you'll be waiting forever.</td>\n",
       "    </tr>\n",
       "    <tr>\n",
       "      <th>6</th>\n",
       "      <td>4 stars</td>\n",
       "      <td>One of my fav chinese spots in the valley!  This is one of those places where if you choose the right menu items it's super awesome but I think they got a few things they are not great at, like their kung pow.  I've been going here for years so here are some of my favorites:  Hong Kong Style Chow Mein, Salt Pepper Pork, Sizzling Beef Short Ribs, Garlic Friend Shrimp, Crystal Shrimp, Lemon Chicken, Wong Jo Chicken, Madarin Beef.  You'll find lots of local people here.  Lots of asians!  Good sign that the food is good right?</td>\n",
       "    </tr>\n",
       "    <tr>\n",
       "      <th>7</th>\n",
       "      <td>2 star</td>\n",
       "      <td>This is the Walmart of electronics. They have everything you may need at good prices. Do your research online before coming in the store. They are infamous for having horrible customer service yet having tons of employees walking around. They completely ignore you and walk right by you. If you want good service and answers to questions go to best buy. This is a no-nonsense store. Get it and get out!</td>\n",
       "    </tr>\n",
       "    <tr>\n",
       "      <th>8</th>\n",
       "      <td>4 stars</td>\n",
       "      <td>I don't usually venture past the strip unless it's for a good enough reason (like to catch a flight out of the country) but Todd's has been on my go to list and we had company staying on that side of town.\\n\\nI'll get the worst part of it over first; the ambiance fails miserably and the decor is on need of a major overhaul!  Uncomfortable 80's diner drab booths, outdated doodie-brown color scheme,  annoying noise from the TV and patrons in the bar area that intrudes into the dining area.  \\n\\nOnce I moved past the absence of marble columns and chandeliers and tuned out the chatter (with the help of a delectable  hibiscus coconut Mojito) I was able to see what made dining at Todd's worth the trek... the food is scrumptious.\\n \\nWe had:\\n\\nGoat cheese wontons with raspberry basil sauce.\\n\\nPotato and carrot samosas. \\n\\nFilet of beef grilled with wild mushroom Cabernet sauce.\\n\\nShort Rib with jalapeno mashed, caramelized onion sauce.\\n\\nOrganic chicken breast, substituted the jalapeno mashed for the toasted couscous.\\n\\nApple &amp; blueberry cobble with buttermilk cinnamon ice cream.\\n\\nThe food gets a big Y for YUM and Martin, our server,  was helpful and fantastic and in sync with our leisurely pace.  \\n\\nToo bad the atmosphere doesn't meld with the food and service to make this a truly unique dining experience.</td>\n",
       "    </tr>\n",
       "    <tr>\n",
       "      <th>9</th>\n",
       "      <td>3 stars</td>\n",
       "      <td>I really wanted Mexican food the day we flew in to Vegas. It' s just one of those things, you crave it and you have to have it. So I found this place, it had okay reviews so I decided to try it.\\n\\nThe restaurant had good ambiance. I thought we were going to be seated outside but we were sat inside which wasn't too bad. They have a huge projection screen where they were playing some channel I cannot remember. We were also next to the bar which looked to have a great selection of Tequila. \\n\\nI really wanted chicken flautas which they didn't have so I settled for crunchy chicken tacos. The server told us their sangrias were really good so I decided to try one of those too.\\n\\nThe sangria was actually pretty good, served with bits of green apple. That drink got me started for the night. \\n\\nThe crunchy chicken taco plate came with three tacos, black beans, white lime rice with cilantro, charred tomatillo salsa, guacamole, and sour cream. Put that all together and it made for a yummy meal. I feel the chicken could have had more flavor and also the menu stated they made their own shells but they looked more like the Taco Bell variety which I wasn't expecting. \\n\\nA downer to this restaurant, no free chips and salsa and the food was a bit pricey for the food. We ordered one sangria, the chicken taco plate and a ceviche appetizer. The tab was $40! Not too much bang for the buck here. Many will say that's Vegas but a different dining experience totaling the same dollar amount the next evenings makes me say I beg to differ.</td>\n",
       "    </tr>\n",
       "  </tbody>\n",
       "</table>"
      ],
      "text/plain": [
       "<IPython.core.display.HTML object>"
      ]
     },
     "metadata": {},
     "output_type": "display_data"
    }
   ],
   "source": [
    "show_random_elements(dataset['train'])"
   ]
  },
  {
   "cell_type": "markdown",
   "metadata": {},
   "source": [
    "## 数据预处理，给数据编码，统一长度"
   ]
  },
  {
   "cell_type": "code",
   "execution_count": 5,
   "metadata": {},
   "outputs": [],
   "source": [
    "from transformers import AutoTokenizer\n",
    "tokenizer=AutoTokenizer.from_pretrained(\"bert-base-cased\")\n",
    "\n",
    "def tokenize_fuc(example):\n",
    "    return tokenizer(example['text'],padding=\"max_length\",truncation=True)\n",
    "\n",
    "tokenized_dataset=dataset.map(tokenize_fuc,batched=True)"
   ]
  },
  {
   "cell_type": "code",
   "execution_count": 6,
   "metadata": {},
   "outputs": [
    {
     "data": {
      "text/plain": [
       "DatasetDict({\n",
       "    train: Dataset({\n",
       "        features: ['label', 'text', 'input_ids', 'token_type_ids', 'attention_mask'],\n",
       "        num_rows: 650000\n",
       "    })\n",
       "    test: Dataset({\n",
       "        features: ['label', 'text', 'input_ids', 'token_type_ids', 'attention_mask'],\n",
       "        num_rows: 50000\n",
       "    })\n",
       "})"
      ]
     },
     "execution_count": 6,
     "metadata": {},
     "output_type": "execute_result"
    }
   ],
   "source": [
    "tokenized_dataset"
   ]
  },
  {
   "cell_type": "code",
   "execution_count": 7,
   "metadata": {},
   "outputs": [
    {
     "data": {
      "text/html": [
       "<table border=\"1\" class=\"dataframe\">\n",
       "  <thead>\n",
       "    <tr style=\"text-align: right;\">\n",
       "      <th></th>\n",
       "      <th>label</th>\n",
       "      <th>text</th>\n",
       "      <th>input_ids</th>\n",
       "      <th>token_type_ids</th>\n",
       "      <th>attention_mask</th>\n",
       "    </tr>\n",
       "  </thead>\n",
       "  <tbody>\n",
       "    <tr>\n",
       "      <th>0</th>\n",
       "      <td>5 stars</td>\n",
       "      <td>We went fully prepared for great food and surly service. Upon arrival, the place was packed, so we sat at the bar right in front of the grill. Best seats in the house as far as we're concerned. The service was quick and to the point. I've spent 15 years working in restaurants and these guys are *busy*. There isn't enough time to dote on needy patrons. The food speaks for itself.\\n\\nWe started with the grilled octopus app. Shared a litre of the house red. She had the grilled sardines and I had the chicken as the main. Best dining experience during our Montreal trip. We'll definitely return.\\n\\nJust before we left, the guitarist came out and started entertaining the guests. Don't let anyone suggest that Chez Doval isn't welcoming.</td>\n",
       "      <td>[101, 1284, 1355, 3106, 4029, 1111, 1632, 2094, 1105, 8910, 1193, 1555, 119, 4352, 4870, 117, 1103, 1282, 1108, 8733, 117, 1177, 1195, 2068, 1120, 1103, 2927, 1268, 1107, 1524, 1104, 1103, 176, 11071, 119, 1798, 3474, 1107, 1103, 1402, 1112, 1677, 1112, 1195, 112, 1231, 4264, 119, 1109, 1555, 1108, 3613, 1105, 1106, 1103, 1553, 119, 146, 112, 1396, 2097, 1405, 1201, 1684, 1107, 7724, 1105, 1292, 3713, 1132, 115, 5116, 115, 119, 1247, 2762, 112, 189, 1536, 1159, 1106, 15645, 1162, 1113, 27819, 14645, 119, 1109, 2094, 8917, 1111, 2111, 119, 165, 183, 165, 183, 2924, 1162, 1408, ...]</td>\n",
       "      <td>[0, 0, 0, 0, 0, 0, 0, 0, 0, 0, 0, 0, 0, 0, 0, 0, 0, 0, 0, 0, 0, 0, 0, 0, 0, 0, 0, 0, 0, 0, 0, 0, 0, 0, 0, 0, 0, 0, 0, 0, 0, 0, 0, 0, 0, 0, 0, 0, 0, 0, 0, 0, 0, 0, 0, 0, 0, 0, 0, 0, 0, 0, 0, 0, 0, 0, 0, 0, 0, 0, 0, 0, 0, 0, 0, 0, 0, 0, 0, 0, 0, 0, 0, 0, 0, 0, 0, 0, 0, 0, 0, 0, 0, 0, 0, 0, 0, 0, 0, 0, ...]</td>\n",
       "      <td>[1, 1, 1, 1, 1, 1, 1, 1, 1, 1, 1, 1, 1, 1, 1, 1, 1, 1, 1, 1, 1, 1, 1, 1, 1, 1, 1, 1, 1, 1, 1, 1, 1, 1, 1, 1, 1, 1, 1, 1, 1, 1, 1, 1, 1, 1, 1, 1, 1, 1, 1, 1, 1, 1, 1, 1, 1, 1, 1, 1, 1, 1, 1, 1, 1, 1, 1, 1, 1, 1, 1, 1, 1, 1, 1, 1, 1, 1, 1, 1, 1, 1, 1, 1, 1, 1, 1, 1, 1, 1, 1, 1, 1, 1, 1, 1, 1, 1, 1, 1, ...]</td>\n",
       "    </tr>\n",
       "  </tbody>\n",
       "</table>"
      ],
      "text/plain": [
       "<IPython.core.display.HTML object>"
      ]
     },
     "metadata": {},
     "output_type": "display_data"
    }
   ],
   "source": [
    "show_random_elements(tokenized_dataset['train'],1)"
   ]
  },
  {
   "cell_type": "markdown",
   "metadata": {},
   "source": [
    "## 抽取小部分数据"
   ]
  },
  {
   "cell_type": "code",
   "execution_count": 8,
   "metadata": {},
   "outputs": [],
   "source": [
    "small_train_dataset=tokenized_dataset['train'].shuffle(seed=42).select(range(1000))\n",
    "small_eval_dataset=tokenized_dataset['test'].shuffle(seed=42).select(range(1000))\n"
   ]
  },
  {
   "cell_type": "markdown",
   "metadata": {},
   "source": [
    "## 加载模型"
   ]
  },
  {
   "cell_type": "code",
   "execution_count": 9,
   "metadata": {},
   "outputs": [
    {
     "name": "stderr",
     "output_type": "stream",
     "text": [
      "Some weights of BertForSequenceClassification were not initialized from the model checkpoint at bert-base-cased and are newly initialized: ['classifier.bias', 'classifier.weight']\n",
      "You should probably TRAIN this model on a down-stream task to be able to use it for predictions and inference.\n"
     ]
    }
   ],
   "source": [
    "from transformers import AutoModelForSequenceClassification\n",
    "\n",
    "model=AutoModelForSequenceClassification.from_pretrained('bert-base-cased',num_labels=5)"
   ]
  },
  {
   "cell_type": "markdown",
   "metadata": {},
   "source": [
    "## 配置超参数"
   ]
  },
  {
   "cell_type": "code",
   "execution_count": 10,
   "metadata": {},
   "outputs": [],
   "source": [
    "from transformers import TrainingArguments\n",
    "\n",
    "model_dir=r\"E:\\model\\language\\fine-tuning\\bert-base-cased-by-yelp\"\n",
    "\n",
    "training_arg=TrainingArguments(\n",
    "    output_dir=model_dir,\n",
    "    per_device_train_batch_size=4,\n",
    "    num_train_epochs=1,\n",
    "    logging_steps=100,\n",
    ")"
   ]
  },
  {
   "cell_type": "code",
   "execution_count": 11,
   "metadata": {},
   "outputs": [
    {
     "name": "stdout",
     "output_type": "stream",
     "text": [
      "TrainingArguments(\n",
      "_n_gpu=1,\n",
      "accelerator_config={'split_batches': False, 'dispatch_batches': None, 'even_batches': True, 'use_seedable_sampler': True},\n",
      "adafactor=False,\n",
      "adam_beta1=0.9,\n",
      "adam_beta2=0.999,\n",
      "adam_epsilon=1e-08,\n",
      "auto_find_batch_size=False,\n",
      "bf16=False,\n",
      "bf16_full_eval=False,\n",
      "data_seed=None,\n",
      "dataloader_drop_last=False,\n",
      "dataloader_num_workers=0,\n",
      "dataloader_persistent_workers=False,\n",
      "dataloader_pin_memory=True,\n",
      "dataloader_prefetch_factor=None,\n",
      "ddp_backend=None,\n",
      "ddp_broadcast_buffers=None,\n",
      "ddp_bucket_cap_mb=None,\n",
      "ddp_find_unused_parameters=None,\n",
      "ddp_timeout=1800,\n",
      "debug=[],\n",
      "deepspeed=None,\n",
      "disable_tqdm=False,\n",
      "dispatch_batches=None,\n",
      "do_eval=False,\n",
      "do_predict=False,\n",
      "do_train=False,\n",
      "eval_accumulation_steps=None,\n",
      "eval_delay=0,\n",
      "eval_steps=None,\n",
      "evaluation_strategy=no,\n",
      "fp16=False,\n",
      "fp16_backend=auto,\n",
      "fp16_full_eval=False,\n",
      "fp16_opt_level=O1,\n",
      "fsdp=[],\n",
      "fsdp_config={'min_num_params': 0, 'xla': False, 'xla_fsdp_v2': False, 'xla_fsdp_grad_ckpt': False},\n",
      "fsdp_min_num_params=0,\n",
      "fsdp_transformer_layer_cls_to_wrap=None,\n",
      "full_determinism=False,\n",
      "gradient_accumulation_steps=1,\n",
      "gradient_checkpointing=False,\n",
      "gradient_checkpointing_kwargs=None,\n",
      "greater_is_better=None,\n",
      "group_by_length=False,\n",
      "half_precision_backend=auto,\n",
      "hub_always_push=False,\n",
      "hub_model_id=None,\n",
      "hub_private_repo=False,\n",
      "hub_strategy=every_save,\n",
      "hub_token=<HUB_TOKEN>,\n",
      "ignore_data_skip=False,\n",
      "include_inputs_for_metrics=False,\n",
      "include_num_input_tokens_seen=False,\n",
      "include_tokens_per_second=False,\n",
      "jit_mode_eval=False,\n",
      "label_names=None,\n",
      "label_smoothing_factor=0.0,\n",
      "learning_rate=5e-05,\n",
      "length_column_name=length,\n",
      "load_best_model_at_end=False,\n",
      "local_rank=0,\n",
      "log_level=passive,\n",
      "log_level_replica=warning,\n",
      "log_on_each_node=True,\n",
      "logging_dir=E:\\model\\language\\fine-tuning\\bert-base-cased-by-yelp\\runs\\Mar07_14-39-56_彭宏博66,\n",
      "logging_first_step=False,\n",
      "logging_nan_inf_filter=True,\n",
      "logging_steps=100,\n",
      "logging_strategy=steps,\n",
      "lr_scheduler_kwargs={},\n",
      "lr_scheduler_type=linear,\n",
      "max_grad_norm=1.0,\n",
      "max_steps=-1,\n",
      "metric_for_best_model=None,\n",
      "mp_parameters=,\n",
      "neftune_noise_alpha=None,\n",
      "no_cuda=False,\n",
      "num_train_epochs=1,\n",
      "optim=adamw_torch,\n",
      "optim_args=None,\n",
      "output_dir=E:\\model\\language\\fine-tuning\\bert-base-cased-by-yelp,\n",
      "overwrite_output_dir=False,\n",
      "past_index=-1,\n",
      "per_device_eval_batch_size=8,\n",
      "per_device_train_batch_size=4,\n",
      "prediction_loss_only=False,\n",
      "push_to_hub=False,\n",
      "push_to_hub_model_id=None,\n",
      "push_to_hub_organization=None,\n",
      "push_to_hub_token=<PUSH_TO_HUB_TOKEN>,\n",
      "ray_scope=last,\n",
      "remove_unused_columns=True,\n",
      "report_to=[],\n",
      "resume_from_checkpoint=None,\n",
      "run_name=E:\\model\\language\\fine-tuning\\bert-base-cased-by-yelp,\n",
      "save_on_each_node=False,\n",
      "save_only_model=False,\n",
      "save_safetensors=True,\n",
      "save_steps=500,\n",
      "save_strategy=steps,\n",
      "save_total_limit=None,\n",
      "seed=42,\n",
      "skip_memory_metrics=True,\n",
      "split_batches=None,\n",
      "tf32=None,\n",
      "torch_compile=False,\n",
      "torch_compile_backend=None,\n",
      "torch_compile_mode=None,\n",
      "torchdynamo=None,\n",
      "tpu_metrics_debug=False,\n",
      "tpu_num_cores=None,\n",
      "use_cpu=False,\n",
      "use_ipex=False,\n",
      "use_legacy_prediction_loop=False,\n",
      "use_mps_device=False,\n",
      "warmup_ratio=0.0,\n",
      "warmup_steps=0,\n",
      "weight_decay=0.0,\n",
      ")\n"
     ]
    }
   ],
   "source": [
    "print(training_arg)"
   ]
  },
  {
   "cell_type": "markdown",
   "metadata": {},
   "source": [
    "### 训练过程中的指标评估（Evaluate)\n",
    "\n",
    "**[Hugging Face Evaluate 库](https://huggingface.co/docs/evaluate/index)** 支持使用一行代码，获得数十种不同领域（自然语言处理、计算机视觉、强化学习等）的评估方法。 当前支持 **完整评估指标：https://huggingface.co/evaluate-metric**\n",
    "\n",
    "训练器（Trainer）在训练过程中不会自动评估模型性能。因此，我们需要向训练器传递一个函数来计算和报告指标。 \n",
    "\n",
    "Evaluate库提供了一个简单的准确率函数，您可以使用`evaluate.load`函数加载"
   ]
  },
  {
   "cell_type": "code",
   "execution_count": 12,
   "metadata": {},
   "outputs": [],
   "source": [
    "import numpy as np\n",
    "import evaluate\n",
    "\n",
    "metric = evaluate.load(\"accuracy\")"
   ]
  },
  {
   "cell_type": "code",
   "execution_count": 13,
   "metadata": {},
   "outputs": [],
   "source": [
    "def compute_metrics(eval_pred):\n",
    "    logits, labels = eval_pred\n",
    "    predictions = np.argmax(logits, axis=-1)\n",
    "    return metric.compute(predictions=predictions, references=labels)"
   ]
  },
  {
   "cell_type": "code",
   "execution_count": 14,
   "metadata": {},
   "outputs": [],
   "source": [
    "from transformers import TrainingArguments, Trainer\n",
    "\n",
    "training_arg = TrainingArguments(output_dir=model_dir,\n",
    "                                  evaluation_strategy=\"epoch\", \n",
    "                                  per_device_train_batch_size=3,\n",
    "                                  num_train_epochs=3,\n",
    "                                  logging_steps=30)"
   ]
  },
  {
   "cell_type": "markdown",
   "metadata": {},
   "source": [
    "## 训练"
   ]
  },
  {
   "cell_type": "code",
   "execution_count": 15,
   "metadata": {},
   "outputs": [],
   "source": [
    "trainer=Trainer(\n",
    "    model=model,\n",
    "    args=training_arg,\n",
    "    train_dataset=small_train_dataset,\n",
    "    eval_dataset=small_eval_dataset,\n",
    "    compute_metrics=compute_metrics\n",
    ")"
   ]
  },
  {
   "cell_type": "code",
   "execution_count": 16,
   "metadata": {},
   "outputs": [
    {
     "data": {
      "application/vnd.jupyter.widget-view+json": {
       "model_id": "cc70d460dade4b49b539e518dae2ee0c",
       "version_major": 2,
       "version_minor": 0
      },
      "text/plain": [
       "  0%|          | 0/1002 [00:00<?, ?it/s]"
      ]
     },
     "metadata": {},
     "output_type": "display_data"
    },
    {
     "name": "stdout",
     "output_type": "stream",
     "text": [
      "{'loss': 1.6564, 'grad_norm': 9.190133094787598, 'learning_rate': 4.8502994011976046e-05, 'epoch': 0.09}\n",
      "{'loss': 1.6423, 'grad_norm': 13.536694526672363, 'learning_rate': 4.70059880239521e-05, 'epoch': 0.18}\n",
      "{'loss': 1.6969, 'grad_norm': 16.42144203186035, 'learning_rate': 4.550898203592814e-05, 'epoch': 0.27}\n",
      "{'loss': 1.7041, 'grad_norm': 9.768793106079102, 'learning_rate': 4.40119760479042e-05, 'epoch': 0.36}\n",
      "{'loss': 1.6783, 'grad_norm': 16.96868896484375, 'learning_rate': 4.251497005988024e-05, 'epoch': 0.45}\n",
      "{'loss': 1.6081, 'grad_norm': 9.759632110595703, 'learning_rate': 4.101796407185629e-05, 'epoch': 0.54}\n",
      "{'loss': 1.4754, 'grad_norm': 17.274873733520508, 'learning_rate': 3.9520958083832336e-05, 'epoch': 0.63}\n",
      "{'loss': 1.4431, 'grad_norm': 11.90774917602539, 'learning_rate': 3.802395209580839e-05, 'epoch': 0.72}\n",
      "{'loss': 1.2927, 'grad_norm': 26.799957275390625, 'learning_rate': 3.652694610778443e-05, 'epoch': 0.81}\n",
      "{'loss': 1.3105, 'grad_norm': 9.593435287475586, 'learning_rate': 3.502994011976048e-05, 'epoch': 0.9}\n",
      "{'loss': 1.4501, 'grad_norm': 26.949474334716797, 'learning_rate': 3.3532934131736525e-05, 'epoch': 0.99}\n"
     ]
    },
    {
     "data": {
      "application/vnd.jupyter.widget-view+json": {
       "model_id": "25a737bd2c424298b6150435618f6655",
       "version_major": 2,
       "version_minor": 0
      },
      "text/plain": [
       "  0%|          | 0/125 [00:00<?, ?it/s]"
      ]
     },
     "metadata": {},
     "output_type": "display_data"
    },
    {
     "name": "stdout",
     "output_type": "stream",
     "text": [
      "{'eval_loss': 1.2845370769500732, 'eval_accuracy': 0.397, 'eval_runtime': 41.8419, 'eval_samples_per_second': 23.9, 'eval_steps_per_second': 2.987, 'epoch': 1.0}\n",
      "{'loss': 1.223, 'grad_norm': 36.22141647338867, 'learning_rate': 3.2035928143712576e-05, 'epoch': 1.08}\n",
      "{'loss': 1.2044, 'grad_norm': 10.429362297058105, 'learning_rate': 3.053892215568863e-05, 'epoch': 1.17}\n",
      "{'loss': 1.2009, 'grad_norm': 20.184120178222656, 'learning_rate': 2.9041916167664674e-05, 'epoch': 1.26}\n",
      "{'loss': 1.0517, 'grad_norm': 17.230878829956055, 'learning_rate': 2.754491017964072e-05, 'epoch': 1.35}\n",
      "{'loss': 1.0729, 'grad_norm': 33.56970977783203, 'learning_rate': 2.604790419161677e-05, 'epoch': 1.44}\n"
     ]
    },
    {
     "name": "stderr",
     "output_type": "stream",
     "text": [
      "Checkpoint destination directory E:\\model\\language\\fine-tuning\\bert-base-cased-by-yelp\\checkpoint-500 already exists and is non-empty. Saving will proceed but saved results may be invalid.\n"
     ]
    },
    {
     "name": "stdout",
     "output_type": "stream",
     "text": [
      "{'loss': 1.2233, 'grad_norm': 9.063084602355957, 'learning_rate': 2.4550898203592816e-05, 'epoch': 1.53}\n",
      "{'loss': 1.1228, 'grad_norm': 8.379409790039062, 'learning_rate': 2.3053892215568866e-05, 'epoch': 1.62}\n",
      "{'loss': 1.1801, 'grad_norm': 23.561912536621094, 'learning_rate': 2.155688622754491e-05, 'epoch': 1.71}\n",
      "{'loss': 1.1849, 'grad_norm': 9.996758460998535, 'learning_rate': 2.0059880239520957e-05, 'epoch': 1.8}\n",
      "{'loss': 1.0159, 'grad_norm': 27.484691619873047, 'learning_rate': 1.8562874251497005e-05, 'epoch': 1.89}\n",
      "{'loss': 0.9491, 'grad_norm': 9.6849946975708, 'learning_rate': 1.7065868263473055e-05, 'epoch': 1.98}\n"
     ]
    },
    {
     "data": {
      "application/vnd.jupyter.widget-view+json": {
       "model_id": "81997495f4414aaa8939454cddc78394",
       "version_major": 2,
       "version_minor": 0
      },
      "text/plain": [
       "  0%|          | 0/125 [00:00<?, ?it/s]"
      ]
     },
     "metadata": {},
     "output_type": "display_data"
    },
    {
     "name": "stdout",
     "output_type": "stream",
     "text": [
      "{'eval_loss': 1.2204817533493042, 'eval_accuracy': 0.492, 'eval_runtime': 47.8557, 'eval_samples_per_second': 20.896, 'eval_steps_per_second': 2.612, 'epoch': 2.0}\n",
      "{'loss': 0.8989, 'grad_norm': 34.590579986572266, 'learning_rate': 1.5568862275449103e-05, 'epoch': 2.07}\n",
      "{'loss': 0.7418, 'grad_norm': 7.8535943031311035, 'learning_rate': 1.407185628742515e-05, 'epoch': 2.16}\n",
      "{'loss': 0.6332, 'grad_norm': 14.910706520080566, 'learning_rate': 1.2574850299401197e-05, 'epoch': 2.25}\n",
      "{'loss': 0.866, 'grad_norm': 23.167125701904297, 'learning_rate': 1.1077844311377246e-05, 'epoch': 2.34}\n",
      "{'loss': 0.687, 'grad_norm': 15.934168815612793, 'learning_rate': 9.580838323353295e-06, 'epoch': 2.43}\n",
      "{'loss': 0.9063, 'grad_norm': 27.37175178527832, 'learning_rate': 8.083832335329342e-06, 'epoch': 2.51}\n",
      "{'loss': 0.744, 'grad_norm': 6.055376052856445, 'learning_rate': 6.58682634730539e-06, 'epoch': 2.6}\n",
      "{'loss': 0.6884, 'grad_norm': 11.331487655639648, 'learning_rate': 5.0898203592814375e-06, 'epoch': 2.69}\n",
      "{'loss': 0.7631, 'grad_norm': 5.0706305503845215, 'learning_rate': 3.592814371257485e-06, 'epoch': 2.78}\n",
      "{'loss': 0.7331, 'grad_norm': 47.86505126953125, 'learning_rate': 2.095808383233533e-06, 'epoch': 2.87}\n",
      "{'loss': 0.6851, 'grad_norm': 2.249098062515259, 'learning_rate': 5.988023952095809e-07, 'epoch': 2.96}\n"
     ]
    },
    {
     "name": "stderr",
     "output_type": "stream",
     "text": [
      "Checkpoint destination directory E:\\model\\language\\fine-tuning\\bert-base-cased-by-yelp\\checkpoint-1000 already exists and is non-empty. Saving will proceed but saved results may be invalid.\n"
     ]
    },
    {
     "data": {
      "application/vnd.jupyter.widget-view+json": {
       "model_id": "7f00c167186d4a0188d5ece57769201c",
       "version_major": 2,
       "version_minor": 0
      },
      "text/plain": [
       "  0%|          | 0/125 [00:00<?, ?it/s]"
      ]
     },
     "metadata": {},
     "output_type": "display_data"
    },
    {
     "name": "stdout",
     "output_type": "stream",
     "text": [
      "{'eval_loss': 1.1581151485443115, 'eval_accuracy': 0.558, 'eval_runtime': 42.5465, 'eval_samples_per_second': 23.504, 'eval_steps_per_second': 2.938, 'epoch': 3.0}\n",
      "{'train_runtime': 574.1883, 'train_samples_per_second': 5.225, 'train_steps_per_second': 1.745, 'train_loss': 1.136073023973111, 'epoch': 3.0}\n"
     ]
    },
    {
     "data": {
      "text/plain": [
       "TrainOutput(global_step=1002, training_loss=1.136073023973111, metrics={'train_runtime': 574.1883, 'train_samples_per_second': 5.225, 'train_steps_per_second': 1.745, 'train_loss': 1.136073023973111, 'epoch': 3.0})"
      ]
     },
     "execution_count": 16,
     "metadata": {},
     "output_type": "execute_result"
    }
   ],
   "source": [
    "trainer.train()"
   ]
  },
  {
   "cell_type": "markdown",
   "metadata": {},
   "source": [
    "## 测试"
   ]
  },
  {
   "cell_type": "code",
   "execution_count": 17,
   "metadata": {},
   "outputs": [],
   "source": [
    "t_dataset = tokenized_dataset[\"test\"].shuffle(seed=64).select(range(100))"
   ]
  },
  {
   "cell_type": "code",
   "execution_count": 18,
   "metadata": {},
   "outputs": [
    {
     "data": {
      "application/vnd.jupyter.widget-view+json": {
       "model_id": "defde79852254066b3cf9fd3dd2799d9",
       "version_major": 2,
       "version_minor": 0
      },
      "text/plain": [
       "  0%|          | 0/13 [00:00<?, ?it/s]"
      ]
     },
     "metadata": {},
     "output_type": "display_data"
    },
    {
     "data": {
      "text/plain": [
       "{'eval_loss': 1.3711062669754028,\n",
       " 'eval_accuracy': 0.5,\n",
       " 'eval_runtime': 4.5916,\n",
       " 'eval_samples_per_second': 21.779,\n",
       " 'eval_steps_per_second': 2.831,\n",
       " 'epoch': 3.0}"
      ]
     },
     "execution_count": 18,
     "metadata": {},
     "output_type": "execute_result"
    }
   ],
   "source": [
    "trainer.evaluate(t_dataset)"
   ]
  },
  {
   "cell_type": "code",
   "execution_count": 19,
   "metadata": {},
   "outputs": [],
   "source": [
    "trainer.save_model(model_dir)"
   ]
  },
  {
   "cell_type": "code",
   "execution_count": 20,
   "metadata": {},
   "outputs": [],
   "source": [
    "trainer.save_state()"
   ]
  },
  {
   "cell_type": "code",
   "execution_count": null,
   "metadata": {},
   "outputs": [],
   "source": []
  },
  {
   "cell_type": "code",
   "execution_count": null,
   "metadata": {},
   "outputs": [],
   "source": []
  }
 ],
 "metadata": {
  "kernelspec": {
   "display_name": "transformers",
   "language": "python",
   "name": "python3"
  },
  "language_info": {
   "codemirror_mode": {
    "name": "ipython",
    "version": 3
   },
   "file_extension": ".py",
   "mimetype": "text/x-python",
   "name": "python",
   "nbconvert_exporter": "python",
   "pygments_lexer": "ipython3",
   "version": "3.10.13"
  }
 },
 "nbformat": 4,
 "nbformat_minor": 2
}
